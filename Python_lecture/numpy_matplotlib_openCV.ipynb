{
 "cells": [
  {
   "cell_type": "code",
   "execution_count": null,
   "metadata": {},
   "outputs": [],
   "source": [
    "import numpy as np\n",
    "\n",
    "a = np.arange(15).reshape(3, 5)\n",
    "print(a)\n",
    "print(a.shape)\n",
    "print(a.ndim)\n",
    "print(a.dtype)\n",
    "print(\"\\n\")"
   ]
  },
  {
   "cell_type": "code",
   "execution_count": null,
   "metadata": {},
   "outputs": [],
   "source": [
    "import numpy as np\n",
    "b = np.array([6.2, 7.2, 8.1])\n",
    "print(b)\n",
    "print(b.dtype)"
   ]
  },
  {
   "cell_type": "code",
   "execution_count": null,
   "metadata": {},
   "outputs": [],
   "source": [
    "import numpy as np\n",
    "c = np.zeros((3, 4))\n",
    "print(c)\n",
    "d = np.ones((2, 3, 4))\n",
    "print(d)"
   ]
  },
  {
   "cell_type": "code",
   "execution_count": null,
   "metadata": {},
   "outputs": [],
   "source": [
    "import numpy as np\n",
    "e = np.arange(10, 30, 5)\n",
    "print(e)\n",
    "f = np.arange(0, 2, 0.5)\n",
    "print(f)"
   ]
  },
  {
   "cell_type": "code",
   "execution_count": null,
   "metadata": {},
   "outputs": [],
   "source": [
    "import numpy as np\n",
    "a = [1,2,3,4,5]\n",
    "b = np.array(a)\n",
    "print(b)\n",
    "c = b.copy()\n",
    "print(c)"
   ]
  },
  {
   "cell_type": "code",
   "execution_count": null,
   "metadata": {},
   "outputs": [],
   "source": [
    "a = [1,2,3,4,5]\n",
    "b = np.array(a)\n",
    "print(a*2) # list iterate\n",
    "print(b*2) # np.array element value * 2\n",
    "# Why print like [ 2]? Because, there was 10 which contains two blocks."
   ]
  },
  {
   "attachments": {},
   "cell_type": "markdown",
   "metadata": {},
   "source": [
    "### np array can only get one data type"
   ]
  },
  {
   "cell_type": "code",
   "execution_count": null,
   "metadata": {},
   "outputs": [],
   "source": [
    "# np array can only get one data type\n",
    "a = np.array([1, 2, 3], dtype=str)\n",
    "b = np.array([1.1, 2.2, 3.3], dtype=int)\n",
    "c = np.array([1, 0], dtype=bool)\n",
    "print(a)\n",
    "print(b)\n",
    "print(c)"
   ]
  },
  {
   "attachments": {},
   "cell_type": "markdown",
   "metadata": {},
   "source": [
    "### Multi-dimensional np array"
   ]
  },
  {
   "cell_type": "code",
   "execution_count": null,
   "metadata": {},
   "outputs": [],
   "source": [
    "a = np.arange(8).reshape(2, 2, 2)\n",
    "b = np.array([[[1, 2], [3, 4]], \n",
    "              [[5, 6], [7, 8]]])\n",
    "print(a, \"\\n\", a.ndim, a.shape, \"\\n\")\n",
    "print(b)"
   ]
  },
  {
   "attachments": {},
   "cell_type": "markdown",
   "metadata": {},
   "source": [
    "# Matplotlib"
   ]
  },
  {
   "cell_type": "code",
   "execution_count": null,
   "metadata": {},
   "outputs": [],
   "source": [
    "import matplotlib.pyplot as plt\n",
    "\n",
    "# 1. 변수 설정\n",
    "x = [1,2,3,4]\n",
    "y = [2*i for i in x]\n",
    "\n",
    "# 2. plotting\n",
    "plt.plot(x, y, linestyle='--', marker='*', color='r', label='label1') # x, y축 data 필요\n",
    "plt.bar(x, y)\n",
    "plt.scatter(x, y, color='b')\n",
    "plt.title(\"Graph\")\n",
    "# plt.grid(True)\n",
    "plt.xticks()\n",
    "plt.legend()\n",
    "\n",
    "# 3. show graph\n",
    "plt.show()"
   ]
  },
  {
   "cell_type": "code",
   "execution_count": null,
   "metadata": {},
   "outputs": [],
   "source": [
    "x = [10, 20, 5]\n",
    "plt.pie(x) # portion / sum\n",
    "plt.show()"
   ]
  },
  {
   "cell_type": "code",
   "execution_count": null,
   "metadata": {},
   "outputs": [],
   "source": [
    "import matplotlib.pyplot as plt\n",
    "x = range(100)\n",
    "y = range(100)\n",
    "plt.plot(x, y)"
   ]
  },
  {
   "cell_type": "code",
   "execution_count": null,
   "metadata": {},
   "outputs": [],
   "source": [
    "import numpy as np\n",
    "x_1 = range(100)\n",
    "y_1 = [np.cos(value) for value in x]\n",
    "x_2 = range(100)\n",
    "y_2 = [np.sin(value) for value in x]\n",
    "\n",
    "plt.plot(x_1, y_1)\n",
    "plt.plot(x_2, y_2)\n",
    "plt.show()\n"
   ]
  },
  {
   "cell_type": "code",
   "execution_count": null,
   "metadata": {},
   "outputs": [],
   "source": [
    "# graph -> fig, axis -> ax\n",
    "fig, ax = plt.subplots()\n",
    "\n",
    "x_1 = range(100)\n",
    "y_1 = [np.cos(value) for value in x]\n",
    "\n",
    "ax.plot(x_1, y_1) # axis에 plotting\n",
    "ax.set(title='Cosine Graph', xlabel=\"X-axis\", ylabel=\"Y-axis\")\n",
    "\n",
    "plt.show()"
   ]
  },
  {
   "cell_type": "code",
   "execution_count": null,
   "metadata": {},
   "outputs": [],
   "source": [
    "fig = plt.figure()\n",
    "fig.set_size_inches(10, 10)\n",
    "\n",
    "ax_1 = fig.add_subplot(1, 2, 1) # 1행 2열의 첫번째\n",
    "ax_2 = fig.add_subplot(1, 2, 2) # 1행 2열의 두번째\n",
    "\n",
    "ax_1.plot(x_1, y_1, c=\"b\")\n",
    "ax_2.plot(x_2, y_2, c=\"g\")\n",
    "plt.show()"
   ]
  },
  {
   "cell_type": "code",
   "execution_count": null,
   "metadata": {},
   "outputs": [],
   "source": [
    "# subplot matrix\n",
    "fig, ax = plt.subplots(nrows=2, ncols=1)\n",
    "print(ax)"
   ]
  },
  {
   "cell_type": "code",
   "execution_count": null,
   "metadata": {},
   "outputs": [],
   "source": [
    "# x, y axis setting\n",
    "x = np.linspace(-1, 1, 100)\n",
    "y_1 = np.sin(x)\n",
    "y_2 = np.cos(x)\n",
    "y_3 = np.tan(x)\n",
    "y_4 = np.exp(x)\n",
    "\n",
    "# 2 by 2 figure 4개 생성\n",
    "fig, ax = plt.subplots(2, 2) \n",
    "\n",
    "# figure allocation\n",
    "ax[0, 0].plot(x, y_1)\n",
    "ax[0, 1].plot(x, y_2)\n",
    "ax[1, 0].plot(x, y_3)\n",
    "ax[1, 1].plot(x, y_4)\n",
    "\n",
    "# show\n",
    "plt.show()"
   ]
  },
  {
   "cell_type": "code",
   "execution_count": null,
   "metadata": {},
   "outputs": [],
   "source": [
    "ax1 = plt.subplot(321)\n",
    "plt.plot(x, y_1)\n",
    "ax2 = plt.subplot(322)\n",
    "plt.plot(x, y_1)\n",
    "ax3 = plt.subplot(312)\n",
    "plt.plot(x, y_1)\n",
    "ax4 = plt.subplot(325)\n",
    "plt.plot(x, y_1)\n",
    "ax5 = plt.subplot(326)\n",
    "plt.plot(x, y_1)\n",
    "\n",
    "plt.show()"
   ]
  },
  {
   "cell_type": "code",
   "execution_count": null,
   "metadata": {},
   "outputs": [],
   "source": [
    "x_1 = range(100)\n",
    "y_1 = [value for value in x_1]\n",
    "\n",
    "x_2 = range(100)\n",
    "y_2 = [value+100 for value in x_1]\n",
    "\n",
    "plt.plot(x_1, y_1, color=\"#000000\")\n",
    "plt.plot(x_2, y_2, c=\"c\")\n",
    "\n",
    "plt.show()"
   ]
  },
  {
   "cell_type": "code",
   "execution_count": null,
   "metadata": {},
   "outputs": [],
   "source": [
    "plt.plot(x_1, y_1, c=\"b\", linestyle=\"dashed\")\n",
    "plt.plot(x_2, y_2, c=\"r\", linestyle=\"dotted\")\n",
    "plt.title(\"Two lines\")\n",
    "plt.show()"
   ]
  },
  {
   "cell_type": "code",
   "execution_count": null,
   "metadata": {},
   "outputs": [],
   "source": [
    "# figure basic setting\n",
    "fig = plt.figure()\n",
    "fig.set_size_inches(10, 10)\n",
    "\n",
    "# fig subplot area setting\n",
    "ax_1 = fig.add_subplot(1, 2, 1)\n",
    "ax_2 = fig.add_subplot(1, 2, 2)\n",
    "\n",
    "# plotting setting\n",
    "ax_1.plot(x_1, y_1, c=\"b\")\n",
    "ax_1.set_title(\"Figure 1\")\n",
    "ax_2.plot(x_2, y_2, c=\"g\")\n",
    "ax_2.set_title(\"Figure 2\")\n",
    "\n",
    "plt.show()"
   ]
  },
  {
   "cell_type": "code",
   "execution_count": null,
   "metadata": {},
   "outputs": [],
   "source": [
    "plt.plot(x_1, y_1, c=\"b\", linestyle=\"dashed\", label=\"line_1\")\n",
    "plt.plot(x_2, y_2, c=\"r\", linestyle=\"dotted\", label=\"line_2\")\n",
    "plt.legend(shadow=False, fancybox=False, loc=\"upper right\")\n",
    "\n",
    "plt.title(\"$y = ax+b$\") # $$ is Italic font\n",
    "plt.xlabel(\"x_line\")\n",
    "plt.ylabel(\"y_line\")"
   ]
  },
  {
   "attachments": {},
   "cell_type": "markdown",
   "metadata": {},
   "source": [
    "### 산점도 Scatter plot\n",
    "- c : point color\n",
    "- size : point size\n",
    "- alpha : point transparency"
   ]
  },
  {
   "cell_type": "code",
   "execution_count": null,
   "metadata": {},
   "outputs": [],
   "source": [
    "data_1 = np.random.rand(512, 2)\n",
    "data_2 = np.random.rand(512, 2)\n",
    "\n",
    "plt.scatter(data_1[: ,0], data_1[: ,1], c=\"b\", marker=\"x\");\n",
    "plt.scatter(data_2[: ,0], data_2[: ,1], c=\"r\", marker=\"o\");\n",
    "plt.show()"
   ]
  },
  {
   "cell_type": "code",
   "execution_count": null,
   "metadata": {},
   "outputs": [],
   "source": [
    "N = 100\n",
    "x = np.random.rand(N)\n",
    "y = np.random.rand(N)\n",
    "\n",
    "colors = np.random.rand(N)\n",
    "area = np.pi * (15 * np.random.rand(N))**2\n",
    "\n",
    "plt.scatter(x, y, s=area, c=colors, alpha=0.5)\n",
    "plt.show()"
   ]
  },
  {
   "cell_type": "code",
   "execution_count": null,
   "metadata": {},
   "outputs": [],
   "source": [
    "import numpy as np\n",
    "import matplotlib.pyplot as plt\n",
    "\n",
    "data = [[5., 25., 50., 20.],\n",
    "         [4., 23., 51., 17.],\n",
    "         [6., 22., 52., 19.]]\n",
    "\n",
    "x = np.arange(0, 8, 2)\n",
    "\n",
    "plt.bar(x + 0.00, data[0], color=\"b\", width=0.5)\n",
    "plt.bar(x + 0.50, data[1], color=\"g\", width=0.5)\n",
    "plt.bar(x + 1.0, data[2], color=\"r\", width=0.5)\n",
    "\n",
    "plt.xticks(x+0.5, (\"A\", \"B\", \"C\", \"D\"))\n",
    "plt.show()"
   ]
  },
  {
   "cell_type": "code",
   "execution_count": null,
   "metadata": {},
   "outputs": [],
   "source": [
    "data = np.array([[5., 25., 50., 20.],\n",
    "         [4., 23., 51., 17.],\n",
    "         [6., 22., 52., 19.]])\n",
    "\n",
    "color_list = [\"b\", \"g\", 'r']\n",
    "data_label = [\"A\", \"B\", \"C\"]\n",
    "x = np.arange(data.shape[1])\n",
    "\n",
    "data = np.array([[5., 25., 50., 20.],\n",
    "         [4., 23., 51., 17.],\n",
    "         [6., 22., 52., 19.]])\n",
    "\n",
    "for i in range(3):\n",
    "    plt.bar(x, data[i], bottom = np.sum(data[:i], axis=0),\n",
    "            color = color_list[i], label=data_label[i])\n",
    "    ## 누적 막대 그래프 -> sum\n",
    "\n",
    "plt.legend()\n",
    "plt.show()"
   ]
  },
  {
   "cell_type": "code",
   "execution_count": null,
   "metadata": {},
   "outputs": [],
   "source": [
    "N = 1000\n",
    "x = np.random.normal(size=N)\n",
    "\n",
    "plt.hist(x, bins=500)\n",
    "plt.show()"
   ]
  },
  {
   "cell_type": "code",
   "execution_count": null,
   "metadata": {},
   "outputs": [],
   "source": [
    "data = np.random.randn(100, 5)\n",
    "plt.boxplot(data)\n",
    "plt.show()"
   ]
  },
  {
   "cell_type": "code",
   "execution_count": null,
   "metadata": {},
   "outputs": [],
   "source": [
    "import seaborn as sns\n",
    "import pandas as pd\n",
    "\n",
    "fmri = sns.load_dataset(\"fmri\")\n",
    "sns.set_style(\"whitegrid\")\n",
    "sns.lineplot(x=\"timepoint\", y=\"signal\", data=fmri) "
   ]
  },
  {
   "cell_type": "code",
   "execution_count": null,
   "metadata": {},
   "outputs": [],
   "source": [
    "fmri.sample(n=10, random_state=1)"
   ]
  },
  {
   "cell_type": "code",
   "execution_count": null,
   "metadata": {},
   "outputs": [],
   "source": [
    "sns.lineplot(x=\"timepoint\", y=\"signal\", hue=\"event\", data=fmri)"
   ]
  },
  {
   "cell_type": "code",
   "execution_count": 1,
   "metadata": {},
   "outputs": [
    {
     "name": "stdout",
     "output_type": "stream",
     "text": [
      "4.8.1\n"
     ]
    }
   ],
   "source": [
    "import cv2\n",
    "print(cv2.__version__)"
   ]
  },
  {
   "cell_type": "code",
   "execution_count": 4,
   "metadata": {},
   "outputs": [],
   "source": [
    "import cv2\n",
    "\n",
    "img_file = cv2.imread(\"./image/cat.jpg\", cv2.IMREAD_UNCHANGED)\n",
    "cv2.imshow(\"Image\", img_file)\n",
    "\n",
    "# Wait for the ESC key to be pressed\n",
    "while True:\n",
    "    if cv2.waitKey(1) & 0xFF == ord('q'):  # ESC key\n",
    "        break\n",
    "\n",
    "cv2.destroyAllWindows()"
   ]
  }
 ],
 "metadata": {
  "kernelspec": {
   "display_name": "Python 3",
   "language": "python",
   "name": "python3"
  },
  "language_info": {
   "codemirror_mode": {
    "name": "ipython",
    "version": 3
   },
   "file_extension": ".py",
   "mimetype": "text/x-python",
   "name": "python",
   "nbconvert_exporter": "python",
   "pygments_lexer": "ipython3",
   "version": "3.10.4"
  },
  "orig_nbformat": 4
 },
 "nbformat": 4,
 "nbformat_minor": 2
}
